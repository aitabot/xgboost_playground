{
 "cells": [
  {
   "cell_type": "code",
   "execution_count": 129,
   "id": "3263de8e",
   "metadata": {},
   "outputs": [],
   "source": [
    "import numpy as np\n",
    "import pandas as pd\n",
    "import xgboost as xgb\n",
    "from sklearn.model_selection import train_test_split\n",
    "from sklearn.metrics import mean_squared_error as MSE\n",
    "import matplotlib.pyplot as plt"
   ]
  },
  {
   "cell_type": "code",
   "execution_count": 130,
   "id": "58fed9bd",
   "metadata": {},
   "outputs": [
    {
     "data": {
      "text/html": [
       "<div>\n",
       "<style scoped>\n",
       "    .dataframe tbody tr th:only-of-type {\n",
       "        vertical-align: middle;\n",
       "    }\n",
       "\n",
       "    .dataframe tbody tr th {\n",
       "        vertical-align: top;\n",
       "    }\n",
       "\n",
       "    .dataframe thead th {\n",
       "        text-align: right;\n",
       "    }\n",
       "</style>\n",
       "<table border=\"1\" class=\"dataframe\">\n",
       "  <thead>\n",
       "    <tr style=\"text-align: right;\">\n",
       "      <th></th>\n",
       "      <th>open</th>\n",
       "      <th>high</th>\n",
       "      <th>low</th>\n",
       "      <th>close</th>\n",
       "      <th>adjusted_close</th>\n",
       "      <th>volume</th>\n",
       "      <th>SMA_20</th>\n",
       "      <th>EMA_21</th>\n",
       "      <th>SMA_20_gt_EMA21</th>\n",
       "      <th>RSI_14</th>\n",
       "      <th>OBV</th>\n",
       "      <th>ROC_1</th>\n",
       "      <th>ROC_BOOL</th>\n",
       "    </tr>\n",
       "    <tr>\n",
       "      <th>date</th>\n",
       "      <th></th>\n",
       "      <th></th>\n",
       "      <th></th>\n",
       "      <th></th>\n",
       "      <th></th>\n",
       "      <th></th>\n",
       "      <th></th>\n",
       "      <th></th>\n",
       "      <th></th>\n",
       "      <th></th>\n",
       "      <th></th>\n",
       "      <th></th>\n",
       "      <th></th>\n",
       "    </tr>\n",
       "  </thead>\n",
       "  <tbody>\n",
       "    <tr>\n",
       "      <th>1999-11-01</th>\n",
       "      <td>19.94</td>\n",
       "      <td>20.44</td>\n",
       "      <td>19.88</td>\n",
       "      <td>20.31</td>\n",
       "      <td>10.155</td>\n",
       "      <td>1563700.0</td>\n",
       "      <td>0.0</td>\n",
       "      <td>0.0</td>\n",
       "      <td>0</td>\n",
       "      <td>0.0</td>\n",
       "      <td>3127400.0</td>\n",
       "      <td>0.0000</td>\n",
       "      <td>0</td>\n",
       "    </tr>\n",
       "    <tr>\n",
       "      <th>1999-11-02</th>\n",
       "      <td>20.31</td>\n",
       "      <td>20.81</td>\n",
       "      <td>20.31</td>\n",
       "      <td>20.56</td>\n",
       "      <td>10.280</td>\n",
       "      <td>1898100.0</td>\n",
       "      <td>0.0</td>\n",
       "      <td>0.0</td>\n",
       "      <td>0</td>\n",
       "      <td>0.0</td>\n",
       "      <td>6923600.0</td>\n",
       "      <td>1.2309</td>\n",
       "      <td>1</td>\n",
       "    </tr>\n",
       "    <tr>\n",
       "      <th>1999-11-03</th>\n",
       "      <td>20.69</td>\n",
       "      <td>21.50</td>\n",
       "      <td>20.56</td>\n",
       "      <td>21.31</td>\n",
       "      <td>10.655</td>\n",
       "      <td>2236000.0</td>\n",
       "      <td>0.0</td>\n",
       "      <td>0.0</td>\n",
       "      <td>0</td>\n",
       "      <td>0.0</td>\n",
       "      <td>11395600.0</td>\n",
       "      <td>3.6479</td>\n",
       "      <td>1</td>\n",
       "    </tr>\n",
       "    <tr>\n",
       "      <th>1999-11-04</th>\n",
       "      <td>21.13</td>\n",
       "      <td>21.31</td>\n",
       "      <td>19.94</td>\n",
       "      <td>20.63</td>\n",
       "      <td>10.315</td>\n",
       "      <td>2415000.0</td>\n",
       "      <td>0.0</td>\n",
       "      <td>0.0</td>\n",
       "      <td>0</td>\n",
       "      <td>0.0</td>\n",
       "      <td>6565600.0</td>\n",
       "      <td>-3.1910</td>\n",
       "      <td>0</td>\n",
       "    </tr>\n",
       "    <tr>\n",
       "      <th>1999-11-05</th>\n",
       "      <td>20.75</td>\n",
       "      <td>21.38</td>\n",
       "      <td>20.25</td>\n",
       "      <td>21.25</td>\n",
       "      <td>10.625</td>\n",
       "      <td>2148000.0</td>\n",
       "      <td>0.0</td>\n",
       "      <td>0.0</td>\n",
       "      <td>0</td>\n",
       "      <td>0.0</td>\n",
       "      <td>10861600.0</td>\n",
       "      <td>3.0053</td>\n",
       "      <td>1</td>\n",
       "    </tr>\n",
       "  </tbody>\n",
       "</table>\n",
       "</div>"
      ],
      "text/plain": [
       "             open   high    low  close  adjusted_close     volume  SMA_20  \\\n",
       "date                                                                        \n",
       "1999-11-01  19.94  20.44  19.88  20.31          10.155  1563700.0     0.0   \n",
       "1999-11-02  20.31  20.81  20.31  20.56          10.280  1898100.0     0.0   \n",
       "1999-11-03  20.69  21.50  20.56  21.31          10.655  2236000.0     0.0   \n",
       "1999-11-04  21.13  21.31  19.94  20.63          10.315  2415000.0     0.0   \n",
       "1999-11-05  20.75  21.38  20.25  21.25          10.625  2148000.0     0.0   \n",
       "\n",
       "            EMA_21  SMA_20_gt_EMA21  RSI_14         OBV   ROC_1  ROC_BOOL  \n",
       "date                                                                       \n",
       "1999-11-01     0.0                0     0.0   3127400.0  0.0000         0  \n",
       "1999-11-02     0.0                0     0.0   6923600.0  1.2309         1  \n",
       "1999-11-03     0.0                0     0.0  11395600.0  3.6479         1  \n",
       "1999-11-04     0.0                0     0.0   6565600.0 -3.1910         0  \n",
       "1999-11-05     0.0                0     0.0  10861600.0  3.0053         1  "
      ]
     },
     "execution_count": 130,
     "metadata": {},
     "output_type": "execute_result"
    }
   ],
   "source": [
    "df = pd.read_csv('data.csv', index_col=\"date\",parse_dates=[\"date\"])\n",
    "df.head()"
   ]
  },
  {
   "cell_type": "code",
   "execution_count": 131,
   "id": "c76b48b3",
   "metadata": {},
   "outputs": [],
   "source": [
    "df.insert(5, 'shifted_ROC_BOOL', df['ROC_BOOL'].shift(-1))"
   ]
  },
  {
   "cell_type": "code",
   "execution_count": 132,
   "id": "9bb6a9b0",
   "metadata": {
    "scrolled": false
   },
   "outputs": [
    {
     "data": {
      "text/html": [
       "<div>\n",
       "<style scoped>\n",
       "    .dataframe tbody tr th:only-of-type {\n",
       "        vertical-align: middle;\n",
       "    }\n",
       "\n",
       "    .dataframe tbody tr th {\n",
       "        vertical-align: top;\n",
       "    }\n",
       "\n",
       "    .dataframe thead th {\n",
       "        text-align: right;\n",
       "    }\n",
       "</style>\n",
       "<table border=\"1\" class=\"dataframe\">\n",
       "  <thead>\n",
       "    <tr style=\"text-align: right;\">\n",
       "      <th></th>\n",
       "      <th>open</th>\n",
       "      <th>high</th>\n",
       "      <th>low</th>\n",
       "      <th>close</th>\n",
       "      <th>adjusted_close</th>\n",
       "      <th>shifted_ROC_BOOL</th>\n",
       "      <th>volume</th>\n",
       "      <th>SMA_20</th>\n",
       "      <th>EMA_21</th>\n",
       "      <th>SMA_20_gt_EMA21</th>\n",
       "      <th>RSI_14</th>\n",
       "      <th>OBV</th>\n",
       "      <th>ROC_1</th>\n",
       "      <th>ROC_BOOL</th>\n",
       "    </tr>\n",
       "    <tr>\n",
       "      <th>date</th>\n",
       "      <th></th>\n",
       "      <th></th>\n",
       "      <th></th>\n",
       "      <th></th>\n",
       "      <th></th>\n",
       "      <th></th>\n",
       "      <th></th>\n",
       "      <th></th>\n",
       "      <th></th>\n",
       "      <th></th>\n",
       "      <th></th>\n",
       "      <th></th>\n",
       "      <th></th>\n",
       "      <th></th>\n",
       "    </tr>\n",
       "  </thead>\n",
       "  <tbody>\n",
       "    <tr>\n",
       "      <th>1999-11-01</th>\n",
       "      <td>19.94</td>\n",
       "      <td>20.44</td>\n",
       "      <td>19.88</td>\n",
       "      <td>20.31</td>\n",
       "      <td>10.155</td>\n",
       "      <td>1.0</td>\n",
       "      <td>1563700.0</td>\n",
       "      <td>0.0</td>\n",
       "      <td>0.0</td>\n",
       "      <td>0</td>\n",
       "      <td>0.0</td>\n",
       "      <td>3127400.0</td>\n",
       "      <td>0.0000</td>\n",
       "      <td>0</td>\n",
       "    </tr>\n",
       "    <tr>\n",
       "      <th>1999-11-02</th>\n",
       "      <td>20.31</td>\n",
       "      <td>20.81</td>\n",
       "      <td>20.31</td>\n",
       "      <td>20.56</td>\n",
       "      <td>10.280</td>\n",
       "      <td>1.0</td>\n",
       "      <td>1898100.0</td>\n",
       "      <td>0.0</td>\n",
       "      <td>0.0</td>\n",
       "      <td>0</td>\n",
       "      <td>0.0</td>\n",
       "      <td>6923600.0</td>\n",
       "      <td>1.2309</td>\n",
       "      <td>1</td>\n",
       "    </tr>\n",
       "    <tr>\n",
       "      <th>1999-11-03</th>\n",
       "      <td>20.69</td>\n",
       "      <td>21.50</td>\n",
       "      <td>20.56</td>\n",
       "      <td>21.31</td>\n",
       "      <td>10.655</td>\n",
       "      <td>0.0</td>\n",
       "      <td>2236000.0</td>\n",
       "      <td>0.0</td>\n",
       "      <td>0.0</td>\n",
       "      <td>0</td>\n",
       "      <td>0.0</td>\n",
       "      <td>11395600.0</td>\n",
       "      <td>3.6479</td>\n",
       "      <td>1</td>\n",
       "    </tr>\n",
       "    <tr>\n",
       "      <th>1999-11-04</th>\n",
       "      <td>21.13</td>\n",
       "      <td>21.31</td>\n",
       "      <td>19.94</td>\n",
       "      <td>20.63</td>\n",
       "      <td>10.315</td>\n",
       "      <td>1.0</td>\n",
       "      <td>2415000.0</td>\n",
       "      <td>0.0</td>\n",
       "      <td>0.0</td>\n",
       "      <td>0</td>\n",
       "      <td>0.0</td>\n",
       "      <td>6565600.0</td>\n",
       "      <td>-3.1910</td>\n",
       "      <td>0</td>\n",
       "    </tr>\n",
       "    <tr>\n",
       "      <th>1999-11-05</th>\n",
       "      <td>20.75</td>\n",
       "      <td>21.38</td>\n",
       "      <td>20.25</td>\n",
       "      <td>21.25</td>\n",
       "      <td>10.625</td>\n",
       "      <td>1.0</td>\n",
       "      <td>2148000.0</td>\n",
       "      <td>0.0</td>\n",
       "      <td>0.0</td>\n",
       "      <td>0</td>\n",
       "      <td>0.0</td>\n",
       "      <td>10861600.0</td>\n",
       "      <td>3.0053</td>\n",
       "      <td>1</td>\n",
       "    </tr>\n",
       "  </tbody>\n",
       "</table>\n",
       "</div>"
      ],
      "text/plain": [
       "             open   high    low  close  adjusted_close  shifted_ROC_BOOL  \\\n",
       "date                                                                       \n",
       "1999-11-01  19.94  20.44  19.88  20.31          10.155               1.0   \n",
       "1999-11-02  20.31  20.81  20.31  20.56          10.280               1.0   \n",
       "1999-11-03  20.69  21.50  20.56  21.31          10.655               0.0   \n",
       "1999-11-04  21.13  21.31  19.94  20.63          10.315               1.0   \n",
       "1999-11-05  20.75  21.38  20.25  21.25          10.625               1.0   \n",
       "\n",
       "               volume  SMA_20  EMA_21  SMA_20_gt_EMA21  RSI_14         OBV  \\\n",
       "date                                                                         \n",
       "1999-11-01  1563700.0     0.0     0.0                0     0.0   3127400.0   \n",
       "1999-11-02  1898100.0     0.0     0.0                0     0.0   6923600.0   \n",
       "1999-11-03  2236000.0     0.0     0.0                0     0.0  11395600.0   \n",
       "1999-11-04  2415000.0     0.0     0.0                0     0.0   6565600.0   \n",
       "1999-11-05  2148000.0     0.0     0.0                0     0.0  10861600.0   \n",
       "\n",
       "             ROC_1  ROC_BOOL  \n",
       "date                          \n",
       "1999-11-01  0.0000         0  \n",
       "1999-11-02  1.2309         1  \n",
       "1999-11-03  3.6479         1  \n",
       "1999-11-04 -3.1910         0  \n",
       "1999-11-05  3.0053         1  "
      ]
     },
     "execution_count": 132,
     "metadata": {},
     "output_type": "execute_result"
    }
   ],
   "source": [
    "df.dropna(inplace=True)\n",
    "df.head()"
   ]
  },
  {
   "cell_type": "code",
   "execution_count": 133,
   "id": "3107f42c",
   "metadata": {},
   "outputs": [],
   "source": [
    "df.sort_index(axis=0,ascending=True,inplace=True)"
   ]
  },
  {
   "cell_type": "code",
   "execution_count": 134,
   "id": "208cad5b",
   "metadata": {},
   "outputs": [
    {
     "data": {
      "text/html": [
       "<div>\n",
       "<style scoped>\n",
       "    .dataframe tbody tr th:only-of-type {\n",
       "        vertical-align: middle;\n",
       "    }\n",
       "\n",
       "    .dataframe tbody tr th {\n",
       "        vertical-align: top;\n",
       "    }\n",
       "\n",
       "    .dataframe thead th {\n",
       "        text-align: right;\n",
       "    }\n",
       "</style>\n",
       "<table border=\"1\" class=\"dataframe\">\n",
       "  <thead>\n",
       "    <tr style=\"text-align: right;\">\n",
       "      <th></th>\n",
       "      <th>close</th>\n",
       "      <th>volume</th>\n",
       "      <th>SMA_20</th>\n",
       "      <th>EMA_21</th>\n",
       "      <th>RSI_14</th>\n",
       "      <th>OBV</th>\n",
       "    </tr>\n",
       "    <tr>\n",
       "      <th>date</th>\n",
       "      <th></th>\n",
       "      <th></th>\n",
       "      <th></th>\n",
       "      <th></th>\n",
       "      <th></th>\n",
       "      <th></th>\n",
       "    </tr>\n",
       "  </thead>\n",
       "  <tbody>\n",
       "    <tr>\n",
       "      <th>1999-11-01</th>\n",
       "      <td>20.31</td>\n",
       "      <td>1563700.0</td>\n",
       "      <td>0.0</td>\n",
       "      <td>0.0</td>\n",
       "      <td>0.0</td>\n",
       "      <td>3127400.0</td>\n",
       "    </tr>\n",
       "    <tr>\n",
       "      <th>1999-11-02</th>\n",
       "      <td>20.56</td>\n",
       "      <td>1898100.0</td>\n",
       "      <td>0.0</td>\n",
       "      <td>0.0</td>\n",
       "      <td>0.0</td>\n",
       "      <td>6923600.0</td>\n",
       "    </tr>\n",
       "    <tr>\n",
       "      <th>1999-11-03</th>\n",
       "      <td>21.31</td>\n",
       "      <td>2236000.0</td>\n",
       "      <td>0.0</td>\n",
       "      <td>0.0</td>\n",
       "      <td>0.0</td>\n",
       "      <td>11395600.0</td>\n",
       "    </tr>\n",
       "    <tr>\n",
       "      <th>1999-11-04</th>\n",
       "      <td>20.63</td>\n",
       "      <td>2415000.0</td>\n",
       "      <td>0.0</td>\n",
       "      <td>0.0</td>\n",
       "      <td>0.0</td>\n",
       "      <td>6565600.0</td>\n",
       "    </tr>\n",
       "    <tr>\n",
       "      <th>1999-11-05</th>\n",
       "      <td>21.25</td>\n",
       "      <td>2148000.0</td>\n",
       "      <td>0.0</td>\n",
       "      <td>0.0</td>\n",
       "      <td>0.0</td>\n",
       "      <td>10861600.0</td>\n",
       "    </tr>\n",
       "  </tbody>\n",
       "</table>\n",
       "</div>"
      ],
      "text/plain": [
       "            close     volume  SMA_20  EMA_21  RSI_14         OBV\n",
       "date                                                            \n",
       "1999-11-01  20.31  1563700.0     0.0     0.0     0.0   3127400.0\n",
       "1999-11-02  20.56  1898100.0     0.0     0.0     0.0   6923600.0\n",
       "1999-11-03  21.31  2236000.0     0.0     0.0     0.0  11395600.0\n",
       "1999-11-04  20.63  2415000.0     0.0     0.0     0.0   6565600.0\n",
       "1999-11-05  21.25  2148000.0     0.0     0.0     0.0  10861600.0"
      ]
     },
     "execution_count": 134,
     "metadata": {},
     "output_type": "execute_result"
    }
   ],
   "source": [
    "x = df.drop(['open', 'adjusted_close', 'high', 'low', 'shifted_ROC_BOOL','SMA_20_gt_EMA21', 'ROC_BOOL','ROC_1'], axis=1).copy()\n",
    "x.head()"
   ]
  },
  {
   "cell_type": "code",
   "execution_count": 135,
   "id": "b6a94aff",
   "metadata": {
    "scrolled": false
   },
   "outputs": [
    {
     "data": {
      "text/plain": [
       "date\n",
       "1999-11-01    1.0\n",
       "1999-11-02    1.0\n",
       "1999-11-03    0.0\n",
       "1999-11-04    1.0\n",
       "1999-11-05    1.0\n",
       "Name: shifted_ROC_BOOL, dtype: float64"
      ]
     },
     "execution_count": 135,
     "metadata": {},
     "output_type": "execute_result"
    }
   ],
   "source": [
    "y = df['shifted_ROC_BOOL'].copy()\n",
    "y.head()"
   ]
  },
  {
   "cell_type": "code",
   "execution_count": 136,
   "id": "7dfb22b9",
   "metadata": {},
   "outputs": [],
   "source": [
    "train_x,test_x, train_y, test_y = train_test_split(x, y, test_size=0.2, random_state=0, shuffle=False)"
   ]
  },
  {
   "cell_type": "code",
   "execution_count": 137,
   "id": "90fc26bb",
   "metadata": {},
   "outputs": [],
   "source": [
    "train = xgb.DMatrix(train_x, label=train_y)\n",
    "test = xgb.DMatrix(test_x, label=test_y)\n",
    "param = {\n",
    "    'max_depth': 18,\n",
    "    'eta' : 0.2,\n",
    "    'objective': 'binary:hinge'\n",
    "}\n",
    "epochs=20"
   ]
  },
  {
   "cell_type": "code",
   "execution_count": 138,
   "id": "3fc13052",
   "metadata": {
    "scrolled": true
   },
   "outputs": [],
   "source": [
    "model = xgb.train(param,train,epochs)"
   ]
  },
  {
   "cell_type": "code",
   "execution_count": 139,
   "id": "c2a80f05",
   "metadata": {},
   "outputs": [],
   "source": [
    "predictions_in_sample = model.predict(train)\n",
    "predictions = model.predict(test)"
   ]
  },
  {
   "cell_type": "code",
   "execution_count": 140,
   "id": "751f9f43",
   "metadata": {
    "scrolled": false
   },
   "outputs": [
    {
     "name": "stdout",
     "output_type": "stream",
     "text": [
      "Accuracy out-of-sample: 0.5009225092250923\n",
      "Precision out-of-sample: 0.5864661654135338\n",
      "Recall out-of-sample: 0.13829787234042554\n",
      "FScore out-of-sample: 0.2238163558106169\n",
      "\n",
      "Accuracy in-sample: 0.9903091832025842\n",
      "Precision in-sample: 0.9833564493758669\n",
      "Recall in-sample: 0.9971870604781997\n",
      "FScore in-sample: 0.9902234636871509\n"
     ]
    }
   ],
   "source": [
    "from sklearn.metrics import accuracy_score, precision_score, recall_score, f1_score, confusion_matrix, ConfusionMatrixDisplay\n",
    "\n",
    "accuracy_out = accuracy_score(test_y, predictions)\n",
    "accuracy_in = accuracy_score(train_y, predictions_in_sample)\n",
    "\n",
    "precision_out = precision_score(test_y, predictions)\n",
    "precision_in = precision_score(train_y, predictions_in_sample)\n",
    "\n",
    "recall_out = recall_score(test_y, predictions)\n",
    "recall_in = recall_score(train_y, predictions_in_sample)\n",
    "\n",
    "f_score_out = f1_score(test_y, predictions)\n",
    "f_score_in = f1_score(train_y, predictions_in_sample)\n",
    "\n",
    "\n",
    "print(f\"Accuracy out-of-sample: {accuracy_out}\")\n",
    "print(f\"Precision out-of-sample: {precision_out}\")\n",
    "print(f\"Recall out-of-sample: {recall_out}\")\n",
    "print(f\"FScore out-of-sample: {f_score_out}\\n\")\n",
    "\n",
    "print(f\"Accuracy in-sample: {accuracy_in}\" )\n",
    "print(f\"Precision in-sample: {precision_in}\" )\n",
    "print(f\"Recall in-sample: {recall_in}\" )\n",
    "print(f\"FScore in-sample: {f_score_in}\")\n"
   ]
  },
  {
   "cell_type": "code",
   "execution_count": 141,
   "id": "7662f474",
   "metadata": {},
   "outputs": [
    {
     "data": {
      "text/plain": [
       "array([[42.89667897,  5.07380074],\n",
       "       [44.83394834,  7.19557196]])"
      ]
     },
     "execution_count": 141,
     "metadata": {},
     "output_type": "execute_result"
    }
   ],
   "source": [
    "confusion_matrix(test_y, predictions)/len(test_y)*100"
   ]
  },
  {
   "cell_type": "code",
   "execution_count": 142,
   "id": "e34522c9",
   "metadata": {},
   "outputs": [
    {
     "data": {
      "text/plain": [
       "<sklearn.metrics._plot.confusion_matrix.ConfusionMatrixDisplay at 0x1d24a559f70>"
      ]
     },
     "execution_count": 142,
     "metadata": {},
     "output_type": "execute_result"
    },
    {
     "data": {
      "image/png": "[encoded data removed]",
      "text/plain": [
       "<Figure size 432x288 with 2 Axes>"
      ]
     },
     "metadata": {
      "needs_background": "light"
     },
     "output_type": "display_data"
    }
   ],
   "source": [
    "cm_out = confusion_matrix(test_y, predictions)/len(test_y)*100\n",
    "\n",
    "disp = ConfusionMatrixDisplay(confusion_matrix=cm_out)\n",
    "disp.plot() "
   ]
  },
  {
   "cell_type": "code",
   "execution_count": 143,
   "id": "ca6e3d9f",
   "metadata": {},
   "outputs": [
    {
     "data": {
      "text/plain": [
       "<sklearn.metrics._plot.confusion_matrix.ConfusionMatrixDisplay at 0x1d2492bc730>"
      ]
     },
     "execution_count": 143,
     "metadata": {},
     "output_type": "execute_result"
    },
    {
     "data": {
      "image/png": "[encoded data removed]",
      "text/plain": [
       "<Figure size 432x288 with 2 Axes>"
      ]
     },
     "metadata": {
      "needs_background": "light"
     },
     "output_type": "display_data"
    }
   ],
   "source": [
    "cm_in = confusion_matrix(train_y, predictions_in_sample)/len(train_y)*100\n",
    "\n",
    "disp = ConfusionMatrixDisplay(confusion_matrix=cm_in)\n",
    "disp.plot()"
   ]
  },
  {
   "cell_type": "code",
   "execution_count": 144,
   "id": "e6dab7ec",
   "metadata": {},
   "outputs": [],
   "source": [
    "# xgb.plot_tree(model, num_trees=0)\n",
    "# plt.rcParams['figure.figsize'] = [10, 10]\n",
    "# plt.show()"
   ]
  }
 ],
 "metadata": {
  "kernelspec": {
   "display_name": "Python 3",
   "language": "python",
   "name": "python3"
  },
  "language_info": {
   "codemirror_mode": {
    "name": "ipython",
    "version": 3
   },
   "file_extension": ".py",
   "mimetype": "text/x-python",
   "name": "python",
   "nbconvert_exporter": "python",
   "pygments_lexer": "ipython3",
   "version": "3.9.2"
  }
 },
 "nbformat": 4,
 "nbformat_minor": 5
}
