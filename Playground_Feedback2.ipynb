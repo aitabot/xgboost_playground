{
 "cells": [
  {
   "cell_type": "code",
   "execution_count": 1077,
   "id": "3263de8e",
   "metadata": {},
   "outputs": [],
   "source": [
    "import matplotlib.pyplot as plt\n",
    "import pandas as pd\n",
    "import xgboost as xgb\n",
    "from sklearn.model_selection import train_test_split"
   ]
  },
  {
   "cell_type": "code",
   "execution_count": 1078,
   "id": "58fed9bd",
   "metadata": {
    "scrolled": true
   },
   "outputs": [],
   "source": [
    "df_full = pd.read_csv('data_thomas.csv', index_col=\"date\", parse_dates=[\"date\"])\n",
    "df_full.dropna(inplace=True)\n",
    "df = df_full[:4000]\n",
    "df_eval = df_full[4001:]"
   ]
  },
  {
   "cell_type": "code",
   "execution_count": 1079,
   "id": "3107f42c",
   "metadata": {},
   "outputs": [],
   "source": [
    "df.sort_index(axis=0, ascending=True, inplace=True)\n"
   ]
  },
  {
   "cell_type": "code",
   "execution_count": 1080,
   "id": "208cad5b",
   "metadata": {},
   "outputs": [
    {
     "data": {
      "text/html": [
       "<div>\n",
       "<style scoped>\n",
       "    .dataframe tbody tr th:only-of-type {\n",
       "        vertical-align: middle;\n",
       "    }\n",
       "\n",
       "    .dataframe tbody tr th {\n",
       "        vertical-align: top;\n",
       "    }\n",
       "\n",
       "    .dataframe thead th {\n",
       "        text-align: right;\n",
       "    }\n",
       "</style>\n",
       "<table border=\"1\" class=\"dataframe\">\n",
       "  <thead>\n",
       "    <tr style=\"text-align: right;\">\n",
       "      <th></th>\n",
       "      <th>4. close</th>\n",
       "      <th>6. volume</th>\n",
       "      <th>roc</th>\n",
       "      <th>sma</th>\n",
       "      <th>ema</th>\n",
       "      <th>rsi</th>\n",
       "      <th>obv</th>\n",
       "      <th>MACD_Signal</th>\n",
       "      <th>MACD</th>\n",
       "      <th>MACD_Hist</th>\n",
       "      <th>SlowK</th>\n",
       "      <th>SlowD</th>\n",
       "      <th>adx</th>\n",
       "      <th>cci</th>\n",
       "      <th>Aroon Up</th>\n",
       "      <th>Aroon Down</th>\n",
       "      <th>Real Lower Band</th>\n",
       "      <th>Real Middle Band</th>\n",
       "      <th>Real Upper Band</th>\n",
       "      <th>ad</th>\n",
       "    </tr>\n",
       "    <tr>\n",
       "      <th>date</th>\n",
       "      <th></th>\n",
       "      <th></th>\n",
       "      <th></th>\n",
       "      <th></th>\n",
       "      <th></th>\n",
       "      <th></th>\n",
       "      <th></th>\n",
       "      <th></th>\n",
       "      <th></th>\n",
       "      <th></th>\n",
       "      <th></th>\n",
       "      <th></th>\n",
       "      <th></th>\n",
       "      <th></th>\n",
       "      <th></th>\n",
       "      <th></th>\n",
       "      <th></th>\n",
       "      <th></th>\n",
       "      <th></th>\n",
       "      <th></th>\n",
       "    </tr>\n",
       "  </thead>\n",
       "  <tbody>\n",
       "    <tr>\n",
       "      <th>1999-12-28</th>\n",
       "      <td>28.75</td>\n",
       "      <td>780300.0</td>\n",
       "      <td>-0.6565</td>\n",
       "      <td>14.6350</td>\n",
       "      <td>14.2512</td>\n",
       "      <td>58.0771</td>\n",
       "      <td>43062400.0</td>\n",
       "      <td>0.7219</td>\n",
       "      <td>0.4981</td>\n",
       "      <td>-0.2239</td>\n",
       "      <td>27.4304</td>\n",
       "      <td>35.4404</td>\n",
       "      <td>43.5091</td>\n",
       "      <td>-48.0229</td>\n",
       "      <td>35.0</td>\n",
       "      <td>60.0</td>\n",
       "      <td>13.4313</td>\n",
       "      <td>14.6350</td>\n",
       "      <td>15.8387</td>\n",
       "      <td>6.374274e+07</td>\n",
       "    </tr>\n",
       "    <tr>\n",
       "      <th>1999-12-29</th>\n",
       "      <td>28.44</td>\n",
       "      <td>522600.0</td>\n",
       "      <td>-1.0783</td>\n",
       "      <td>14.6398</td>\n",
       "      <td>14.2483</td>\n",
       "      <td>57.0397</td>\n",
       "      <td>42017200.0</td>\n",
       "      <td>0.6661</td>\n",
       "      <td>0.4426</td>\n",
       "      <td>-0.2235</td>\n",
       "      <td>28.5393</td>\n",
       "      <td>29.0019</td>\n",
       "      <td>42.3421</td>\n",
       "      <td>-69.9336</td>\n",
       "      <td>30.0</td>\n",
       "      <td>55.0</td>\n",
       "      <td>13.4434</td>\n",
       "      <td>14.6398</td>\n",
       "      <td>15.8361</td>\n",
       "      <td>6.383307e+07</td>\n",
       "    </tr>\n",
       "    <tr>\n",
       "      <th>1999-12-30</th>\n",
       "      <td>28.44</td>\n",
       "      <td>892400.0</td>\n",
       "      <td>0.0000</td>\n",
       "      <td>14.6633</td>\n",
       "      <td>14.2456</td>\n",
       "      <td>57.0397</td>\n",
       "      <td>42017200.0</td>\n",
       "      <td>0.6117</td>\n",
       "      <td>0.3941</td>\n",
       "      <td>-0.2176</td>\n",
       "      <td>30.6254</td>\n",
       "      <td>28.8651</td>\n",
       "      <td>41.1439</td>\n",
       "      <td>-82.6652</td>\n",
       "      <td>25.0</td>\n",
       "      <td>50.0</td>\n",
       "      <td>13.5204</td>\n",
       "      <td>14.6633</td>\n",
       "      <td>15.8061</td>\n",
       "      <td>6.444066e+07</td>\n",
       "    </tr>\n",
       "    <tr>\n",
       "      <th>1999-12-31</th>\n",
       "      <td>28.94</td>\n",
       "      <td>882800.0</td>\n",
       "      <td>1.7581</td>\n",
       "      <td>14.6243</td>\n",
       "      <td>14.2670</td>\n",
       "      <td>58.3687</td>\n",
       "      <td>43782800.0</td>\n",
       "      <td>0.5636</td>\n",
       "      <td>0.3716</td>\n",
       "      <td>-0.1921</td>\n",
       "      <td>52.7724</td>\n",
       "      <td>37.3124</td>\n",
       "      <td>40.0687</td>\n",
       "      <td>-52.8434</td>\n",
       "      <td>20.0</td>\n",
       "      <td>45.0</td>\n",
       "      <td>13.5113</td>\n",
       "      <td>14.6243</td>\n",
       "      <td>15.7372</td>\n",
       "      <td>6.620626e+07</td>\n",
       "    </tr>\n",
       "    <tr>\n",
       "      <th>2000-01-03</th>\n",
       "      <td>31.00</td>\n",
       "      <td>3921600.0</td>\n",
       "      <td>7.1182</td>\n",
       "      <td>14.6243</td>\n",
       "      <td>14.3844</td>\n",
       "      <td>63.2931</td>\n",
       "      <td>51626000.0</td>\n",
       "      <td>0.5373</td>\n",
       "      <td>0.4318</td>\n",
       "      <td>-0.1055</td>\n",
       "      <td>77.1122</td>\n",
       "      <td>53.5034</td>\n",
       "      <td>39.6958</td>\n",
       "      <td>113.0544</td>\n",
       "      <td>15.0</td>\n",
       "      <td>40.0</td>\n",
       "      <td>13.5113</td>\n",
       "      <td>14.6243</td>\n",
       "      <td>15.7372</td>\n",
       "      <td>7.240282e+07</td>\n",
       "    </tr>\n",
       "  </tbody>\n",
       "</table>\n",
       "</div>"
      ],
      "text/plain": [
       "            4. close  6. volume     roc      sma      ema      rsi  \\\n",
       "date                                                                 \n",
       "1999-12-28     28.75   780300.0 -0.6565  14.6350  14.2512  58.0771   \n",
       "1999-12-29     28.44   522600.0 -1.0783  14.6398  14.2483  57.0397   \n",
       "1999-12-30     28.44   892400.0  0.0000  14.6633  14.2456  57.0397   \n",
       "1999-12-31     28.94   882800.0  1.7581  14.6243  14.2670  58.3687   \n",
       "2000-01-03     31.00  3921600.0  7.1182  14.6243  14.3844  63.2931   \n",
       "\n",
       "                   obv  MACD_Signal    MACD  MACD_Hist    SlowK    SlowD  \\\n",
       "date                                                                       \n",
       "1999-12-28  43062400.0       0.7219  0.4981    -0.2239  27.4304  35.4404   \n",
       "1999-12-29  42017200.0       0.6661  0.4426    -0.2235  28.5393  29.0019   \n",
       "1999-12-30  42017200.0       0.6117  0.3941    -0.2176  30.6254  28.8651   \n",
       "1999-12-31  43782800.0       0.5636  0.3716    -0.1921  52.7724  37.3124   \n",
       "2000-01-03  51626000.0       0.5373  0.4318    -0.1055  77.1122  53.5034   \n",
       "\n",
       "                adx       cci  Aroon Up  Aroon Down  Real Lower Band  \\\n",
       "date                                                                   \n",
       "1999-12-28  43.5091  -48.0229      35.0        60.0          13.4313   \n",
       "1999-12-29  42.3421  -69.9336      30.0        55.0          13.4434   \n",
       "1999-12-30  41.1439  -82.6652      25.0        50.0          13.5204   \n",
       "1999-12-31  40.0687  -52.8434      20.0        45.0          13.5113   \n",
       "2000-01-03  39.6958  113.0544      15.0        40.0          13.5113   \n",
       "\n",
       "            Real Middle Band  Real Upper Band            ad  \n",
       "date                                                         \n",
       "1999-12-28           14.6350          15.8387  6.374274e+07  \n",
       "1999-12-29           14.6398          15.8361  6.383307e+07  \n",
       "1999-12-30           14.6633          15.8061  6.444066e+07  \n",
       "1999-12-31           14.6243          15.7372  6.620626e+07  \n",
       "2000-01-03           14.6243          15.7372  7.240282e+07  "
      ]
     },
     "execution_count": 1080,
     "metadata": {},
     "output_type": "execute_result"
    }
   ],
   "source": [
    "x = df.drop(['1. open', '2. high', '3. low', '5. adjusted close', '7. dividend amount', '8. split coefficient',\n",
    "             'shifted_ROC_BOOL'], axis=1).copy()\n",
    "\n",
    "x.head()"
   ]
  },
  {
   "cell_type": "code",
   "execution_count": 1081,
   "id": "b6a94aff",
   "metadata": {
    "scrolled": false
   },
   "outputs": [
    {
     "data": {
      "text/plain": [
       "date\n",
       "1999-12-28    0\n",
       "1999-12-29    1\n",
       "1999-12-30    1\n",
       "1999-12-31    1\n",
       "2000-01-03    0\n",
       "Name: shifted_ROC_BOOL, dtype: int64"
      ]
     },
     "execution_count": 1081,
     "metadata": {},
     "output_type": "execute_result"
    }
   ],
   "source": [
    "y = df['shifted_ROC_BOOL'].copy()\n",
    "y.head()"
   ]
  },
  {
   "cell_type": "code",
   "execution_count": 1082,
   "id": "7dfb22b9",
   "metadata": {},
   "outputs": [],
   "source": [
    "x_train, x_test, y_train, y_test = train_test_split(x, y, test_size=0.2, random_state=0, shuffle=False)"
   ]
  },
  {
   "cell_type": "code",
   "execution_count": 1083,
   "id": "90fc26bb",
   "metadata": {},
   "outputs": [],
   "source": [
    "x_eval = df_eval.drop(\n",
    "    ['1. open', '2. high', '3. low', '5. adjusted close', '7. dividend amount', '8. split coefficient',\n",
    "     'shifted_ROC_BOOL'], axis=1).copy()\n",
    "y_eval = df_eval['shifted_ROC_BOOL'].copy()\n",
    "\n",
    "eval_set = [(xgb.DMatrix(x_eval, label=y_eval), 'eval')]"
   ]
  },
  {
   "cell_type": "code",
   "execution_count": 1084,
   "id": "08abed7e",
   "metadata": {
    "pycharm": {
     "name": "#%%\n"
    }
   },
   "outputs": [],
   "source": [
    "train = xgb.DMatrix(x_train, label=y_train)\n",
    "test = xgb.DMatrix(x_test, label=y_test)\n",
    "param = {\n",
    "    'max_depth': 6,\n",
    "    'eta': 0.3,\n",
    "    'objective': 'binary:hinge',\n",
    "    'gamma': 0.1,\n",
    "    'subsample': 0.33,\n",
    "    'eval_metric': 'error' # Binary classification error rate \n",
    "}\n",
    "epochs = 10"
   ]
  },
  {
   "cell_type": "code",
   "execution_count": 1085,
   "id": "3fc13052",
   "metadata": {
    "scrolled": false
   },
   "outputs": [
    {
     "name": "stdout",
     "output_type": "stream",
     "text": [
      "[0]\teval-error:0.46465\n",
      "[1]\teval-error:0.46465\n",
      "[2]\teval-error:0.46465\n",
      "[3]\teval-error:0.45960\n",
      "[4]\teval-error:0.47330\n",
      "[5]\teval-error:0.46970\n",
      "[6]\teval-error:0.46248\n",
      "[7]\teval-error:0.46392\n"
     ]
    }
   ],
   "source": [
    "model = xgb.train(params=param, dtrain=train, num_boost_round=epochs, evals=eval_set, early_stopping_rounds=5)"
   ]
  },
  {
   "cell_type": "code",
   "execution_count": 1086,
   "id": "c2a80f05",
   "metadata": {},
   "outputs": [],
   "source": [
    "predictions_in_sample = model.predict(train)\n",
    "predictions = model.predict(test)"
   ]
  },
  {
   "cell_type": "code",
   "execution_count": 1087,
   "id": "751f9f43",
   "metadata": {
    "scrolled": false
   },
   "outputs": [
    {
     "name": "stdout",
     "output_type": "stream",
     "text": [
      "Accuracy out-of-sample: 0.52875\n",
      "Precision out-of-sample: 0.5354330708661418\n",
      "Recall out-of-sample: 0.9466357308584686\n",
      "FScore out-of-sample: 0.6839899413243924\n",
      "\n",
      "Accuracy in-sample: 0.61625\n",
      "Precision in-sample: 0.5762253956001544\n",
      "Recall in-sample: 0.9199014171287738\n",
      "FScore in-sample: 0.7085904129093499\n"
     ]
    }
   ],
   "source": [
    "from sklearn.metrics import accuracy_score, precision_score, recall_score\n",
    "from sklearn.metrics import f1_score, confusion_matrix, ConfusionMatrixDisplay\n",
    "\n",
    "accuracy_out = accuracy_score(y_test, predictions)\n",
    "accuracy_in = accuracy_score(y_train, predictions_in_sample)\n",
    "\n",
    "precision_out = precision_score(y_test, predictions)\n",
    "precision_in = precision_score(y_train, predictions_in_sample)\n",
    "\n",
    "recall_out = recall_score(y_test, predictions)\n",
    "recall_in = recall_score(y_train, predictions_in_sample)\n",
    "\n",
    "f_score_out = f1_score(y_test, predictions)\n",
    "f_score_in = f1_score(y_train, predictions_in_sample)\n",
    "\n",
    "print(f\"Accuracy out-of-sample: {accuracy_out}\")\n",
    "print(f\"Precision out-of-sample: {precision_out}\")\n",
    "print(f\"Recall out-of-sample: {recall_out}\")\n",
    "print(f\"FScore out-of-sample: {f_score_out}\\n\")\n",
    "\n",
    "print(f\"Accuracy in-sample: {accuracy_in}\")\n",
    "print(f\"Precision in-sample: {precision_in}\")\n",
    "print(f\"Recall in-sample: {recall_in}\")\n",
    "print(f\"FScore in-sample: {f_score_in}\")\n"
   ]
  },
  {
   "cell_type": "code",
   "execution_count": 1088,
   "id": "e34522c9",
   "metadata": {
    "scrolled": true
   },
   "outputs": [
    {
     "data": {
      "image/png": "[encoded data removed]",
      "text/plain": [
       "<Figure size 1080x360 with 4 Axes>"
      ]
     },
     "metadata": {
      "needs_background": "light"
     },
     "output_type": "display_data"
    }
   ],
   "source": [
    "fig, ax = plt.subplots(1, 2, figsize=(15, 5))\n",
    "cm_out = confusion_matrix(y_test, predictions) / len(y_test) * 100\n",
    "cm_in = confusion_matrix(y_train, predictions_in_sample) / len(y_train) * 100\n",
    "\n",
    "ax[0].set_title(\"Confusion Matrix - Out-of-Sample\")\n",
    "ax[1].set_title(\"Confusion Matrix - In-Sample\")\n",
    "\n",
    "ax[0] = ConfusionMatrixDisplay(confusion_matrix=cm_out).plot(ax=ax[0], cmap='Greys')\n",
    "ax[1] = ConfusionMatrixDisplay(confusion_matrix=cm_in).plot(ax=ax[1], cmap='Greys')\n",
    "\n",
    "plt.show()"
   ]
  },
  {
   "cell_type": "code",
   "execution_count": 1089,
   "id": "e6dab7ec",
   "metadata": {
    "pycharm": {
     "name": "#%%\n"
    }
   },
   "outputs": [
    {
     "data": {
      "text/plain": [
       "<AxesSubplot:title={'center':'Feature importance'}, xlabel='F score', ylabel='Features'>"
      ]
     },
     "execution_count": 1089,
     "metadata": {},
     "output_type": "execute_result"
    },
    {
     "data": {
      "image/png": "[encoded data removed]",
      "text/plain": [
       "<Figure size 432x288 with 1 Axes>"
      ]
     },
     "metadata": {
      "needs_background": "light"
     },
     "output_type": "display_data"
    }
   ],
   "source": [
    "xgb.plot_importance(model)\n"
   ]
  }
 ],
 "metadata": {
  "kernelspec": {
   "display_name": "Python 3",
   "language": "python",
   "name": "python3"
  },
  "language_info": {
   "codemirror_mode": {
    "name": "ipython",
    "version": 3
   },
   "file_extension": ".py",
   "mimetype": "text/x-python",
   "name": "python",
   "nbconvert_exporter": "python",
   "pygments_lexer": "ipython3",
   "version": "3.9.2"
  }
 },
 "nbformat": 4,
 "nbformat_minor": 5
}
