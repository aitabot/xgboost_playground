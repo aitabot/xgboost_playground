{
 "cells": [
  {
   "cell_type": "code",
   "execution_count": null,
   "id": "d2abdcac",
   "metadata": {},
   "outputs": [],
   "source": [
    "import pandas as pd # load and manipulate data and for One-Hot Encoding\n",
    "import numpy as np # calculate the mean and standard deviation\n",
    "import xgboost as xgb # XGBoost stuff\n",
    "import matplotlib.pyplot as plt\n",
    "from sklearn.model_selection import train_test_split # split  data into training and testing sets\n",
    "from sklearn.metrics import balanced_accuracy_score, roc_auc_score, make_scorer # for scoring during cross validation\n",
    "from sklearn.model_selection import GridSearchCV # cross validation\n",
    "from sklearn.metrics import confusion_matrix # creates a confusion matrix\n",
    "from sklearn.metrics import plot_confusion_matrix # draws a confusion matrix\n",
    "from sklearn.metrics import mean_squared_error"
   ]
  },
  {
   "cell_type": "code",
   "execution_count": null,
   "id": "988c8be8",
   "metadata": {},
   "outputs": [],
   "source": [
    "df = pd.read_csv('data.csv')"
   ]
  },
  {
   "cell_type": "code",
   "execution_count": null,
   "id": "429bfa21",
   "metadata": {},
   "outputs": [],
   "source": [
    "df['shifted_adjusted_close'] = df['adjusted_close'].shift(-1)"
   ]
  },
  {
   "cell_type": "code",
   "execution_count": null,
   "id": "8c792401",
   "metadata": {},
   "outputs": [],
   "source": [
    "df.dropna(inplace=True)"
   ]
  },
  {
   "cell_type": "code",
   "execution_count": null,
   "id": "f14543f2",
   "metadata": {},
   "outputs": [],
   "source": [
    "df.drop(['date'], axis=1, inplace=True)"
   ]
  },
  {
   "cell_type": "code",
   "execution_count": null,
   "id": "640758ae",
   "metadata": {},
   "outputs": [],
   "source": [
    "df"
   ]
  },
  {
   "cell_type": "code",
   "execution_count": null,
   "id": "2ca30896",
   "metadata": {},
   "outputs": [],
   "source": [
    "def train_test_split2(data, perc):\n",
    "    \"\"\"\n",
    "        data contains [X, y]\n",
    "        perc is the percentage of data to use as testdata\n",
    "        returns [X_80%, y_80%], [X_20%, y_20%]\n",
    "    \"\"\"\n",
    "    data = data.values\n",
    "    n = int(len(data) * (1 - perc))\n",
    "    return data[:n], data[n:]"
   ]
  },
  {
   "cell_type": "code",
   "execution_count": null,
   "id": "bb6da4f9",
   "metadata": {},
   "outputs": [],
   "source": [
    "train, test = train_test_split2(df, 0.2)"
   ]
  },
  {
   "cell_type": "code",
   "execution_count": null,
   "id": "b16af8e8",
   "metadata": {},
   "outputs": [],
   "source": [
    "print(len(df))\n",
    "print(len(train))\n",
    "print(len(test))"
   ]
  },
  {
   "cell_type": "code",
   "execution_count": null,
   "id": "0e8d9514",
   "metadata": {},
   "outputs": [],
   "source": [
    "def xgb_predict(train, y_test_0):\n",
    "    \"\"\"\n",
    "        train  contains [...X, y]\n",
    "        y_test is the value we use to test our prediction\n",
    "    \"\"\"\n",
    "    train = np.array(train)\n",
    "    X, y = train[:, :-1], train[:, -1]\n",
    "    model = xgb.XGBRegressor(objective=\"reg:squarederror\", n_estimators=1000)\n",
    "    model.fit(X, y)\n",
    "    pred = model.predict(y_test_0)\n",
    "    return pred[0]"
   ]
  },
  {
   "cell_type": "code",
   "execution_count": null,
   "id": "3fe24061",
   "metadata": {},
   "outputs": [],
   "source": [
    "len(xgb_predict(train, test[0][:-1]))\n",
    "#len(test[0])\n",
    "#np.array(train[0]).reshape(1, -1)"
   ]
  },
  {
   "cell_type": "code",
   "execution_count": null,
   "id": "ff323f08",
   "metadata": {},
   "outputs": [],
   "source": [
    "def validate(data, perc):\n",
    "    \"\"\"\n",
    "        data: contains [X, y]\n",
    "        prec: percentage to use as testdata\n",
    "    \"\"\"\n",
    "    predictions = []\n",
    "\n",
    "    train, test = train_test_split2(data, perc)\n",
    "\n",
    "    history = [x for x in train]\n",
    "\n",
    "    for i in range(len(test)):\n",
    "        test_X, test_y = test[i, :-1], test[i, -1]\n",
    "\n",
    "        pred = xgb_predict(history, test_X[0])\n",
    "        predictions.append(pred)\n",
    "\n",
    "        history.append(test[i])\n",
    "\n",
    "    error = mean_squared_error(test[:, -1], predictions, squared=False)\n",
    "\n",
    "    return error, test[:, -1], predictions"
   ]
  },
  {
   "cell_type": "code",
   "execution_count": null,
   "id": "91b16e2e",
   "metadata": {},
   "outputs": [],
   "source": [
    "%%time\n",
    "rmse, y, pred = validate(df, 0.2)\n",
    "\n",
    "print(rmse)"
   ]
  }
 ],
 "metadata": {
  "kernelspec": {
   "display_name": "Python 3",
   "language": "python",
   "name": "python3"
  },
  "language_info": {
   "codemirror_mode": {
    "name": "ipython",
    "version": 3
   },
   "file_extension": ".py",
   "mimetype": "text/x-python",
   "name": "python",
   "nbconvert_exporter": "python",
   "pygments_lexer": "ipython3",
   "version": "3.7.9"
  }
 },
 "nbformat": 4,
 "nbformat_minor": 5
}
