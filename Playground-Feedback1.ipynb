{
 "cells": [
  {
   "cell_type": "code",
   "execution_count": null,
   "id": "652badd8",
   "metadata": {},
   "outputs": [],
   "source": [
    "import pandas as pd # load and manipulate data and for One-Hot Encoding\n",
    "import numpy as np # calculate the mean and standard deviation\n",
    "import xgboost as xgb # XGBoost stuff\n",
    "import matplotlib.pyplot as plt\n",
    "from sklearn.model_selection import train_test_split # split  data into training and testing sets\n",
    "from sklearn.metrics import balanced_accuracy_score, roc_auc_score, make_scorer # for scoring during cross validation\n",
    "from sklearn.model_selection import GridSearchCV # cross validation\n",
    "from sklearn.metrics import confusion_matrix # creates a confusion matrix\n",
    "from sklearn.metrics import plot_confusion_matrix # draws a confusion matrix"
   ]
  },
  {
   "cell_type": "code",
   "execution_count": null,
   "id": "e3f88e5b",
   "metadata": {},
   "outputs": [],
   "source": [
    "df = pd.read_csv('data.csv')\n",
    "df.head()"
   ]
  },
  {
   "cell_type": "markdown",
   "id": "9b8efa95",
   "metadata": {},
   "source": [
    "> Ensure that the `date` is acending!"
   ]
  },
  {
   "cell_type": "markdown",
   "id": "74adf125",
   "metadata": {},
   "source": [
    "## Ensure that we have good looking data.\n",
    "\n",
    "We want to ensure that the types of the colums are correct.\n",
    "The following shows, that we do have float64,int64 everywhere as the type. However it does not ensure that nowhere a `nan` (or `None` if would be objects) can be found.\n",
    "\n",
    "> So make sure that data at this point does neither contain None nor Null\n"
   ]
  },
  {
   "cell_type": "code",
   "execution_count": null,
   "id": "f3157324",
   "metadata": {},
   "outputs": [],
   "source": [
    "df.dtypes"
   ]
  },
  {
   "cell_type": "code",
   "execution_count": null,
   "id": "0568d720",
   "metadata": {},
   "outputs": [],
   "source": [
    "len(df[df['date'].isna()]) == 0"
   ]
  },
  {
   "cell_type": "code",
   "execution_count": null,
   "id": "c889e6b8",
   "metadata": {},
   "outputs": [],
   "source": [
    "len(df[df['high'].isna()]) == 0"
   ]
  },
  {
   "cell_type": "code",
   "execution_count": null,
   "id": "6a069fae",
   "metadata": {},
   "outputs": [],
   "source": [
    "len(df[df['low'].isna()]) == 0"
   ]
  },
  {
   "cell_type": "code",
   "execution_count": null,
   "id": "2a337583",
   "metadata": {},
   "outputs": [],
   "source": [
    "len(df[df['adjusted_close'].isna()]) == 0"
   ]
  },
  {
   "cell_type": "code",
   "execution_count": null,
   "id": "9930ca14",
   "metadata": {},
   "outputs": [],
   "source": [
    "len(df[df['volume'].isna()]) == 0"
   ]
  },
  {
   "cell_type": "code",
   "execution_count": null,
   "id": "00fae214",
   "metadata": {},
   "outputs": [],
   "source": [
    "len(df[df['SMA_20'].isna()]) == 0"
   ]
  },
  {
   "cell_type": "code",
   "execution_count": null,
   "id": "7037367d",
   "metadata": {},
   "outputs": [],
   "source": [
    "len(df[df['SMA_20_gt_EMA21'].isna()]) == 0"
   ]
  },
  {
   "cell_type": "code",
   "execution_count": null,
   "id": "db9f8220",
   "metadata": {},
   "outputs": [],
   "source": [
    "len(df[df['RSI_14'].isna()]) == 0"
   ]
  },
  {
   "cell_type": "code",
   "execution_count": null,
   "id": "f6209d11",
   "metadata": {},
   "outputs": [],
   "source": [
    "len(df[df['OBV'].isna()]) == 0"
   ]
  },
  {
   "cell_type": "code",
   "execution_count": null,
   "id": "2fc676fb",
   "metadata": {},
   "outputs": [],
   "source": [
    "len(df[df['ROC_1'].isna()]) == 0"
   ]
  },
  {
   "cell_type": "code",
   "execution_count": null,
   "id": "d5c14478",
   "metadata": {},
   "outputs": [],
   "source": [
    "len(df[df['ROC_BOOL'].isna()]) == 0"
   ]
  },
  {
   "cell_type": "markdown",
   "id": "b9ba469e",
   "metadata": {},
   "source": [
    "All above should return `True`."
   ]
  },
  {
   "cell_type": "markdown",
   "id": "1d966f3f",
   "metadata": {},
   "source": [
    "## Add a row with the ROC_BOOL shifted by -1\n",
    "\n",
    "Since we want to target the `shifted_ROC_BOOL`, we need a way to tell XGBoost if it did a good job at regression. Therefore we create a copy of that column and shift it by -1.\n",
    " \n",
    "You can see that `df[1].ROC_BOOL == df[0].shifted_ROC_BOOL`.  \n"
   ]
  },
  {
   "cell_type": "code",
   "execution_count": null,
   "id": "a3ef393f",
   "metadata": {},
   "outputs": [],
   "source": [
    "df.insert(5, 'shifted_ROC_BOOL', df['ROC_BOOL'].shift(-1))"
   ]
  },
  {
   "cell_type": "code",
   "execution_count": null,
   "id": "bab91826",
   "metadata": {},
   "outputs": [],
   "source": [
    "df.tail()"
   ]
  },
  {
   "cell_type": "markdown",
   "id": "4ef3cafc",
   "metadata": {},
   "source": [
    "### Since the shifting creates a `NaN` at the oldest entry, delete that line."
   ]
  },
  {
   "cell_type": "code",
   "execution_count": null,
   "id": "ae837ce9",
   "metadata": {},
   "outputs": [],
   "source": [
    "len(df.index)"
   ]
  },
  {
   "cell_type": "code",
   "execution_count": null,
   "id": "6e963e47",
   "metadata": {},
   "outputs": [],
   "source": [
    "df.dropna(inplace=True)"
   ]
  },
  {
   "cell_type": "code",
   "execution_count": null,
   "id": "7fea6fdb",
   "metadata": {},
   "outputs": [],
   "source": [
    "len(df.index)"
   ]
  },
  {
   "cell_type": "markdown",
   "id": "d3ac788e",
   "metadata": {},
   "source": [
    "The `len(df.index)` should now be one less than the previous `len(df.index)`."
   ]
  },
  {
   "cell_type": "markdown",
   "id": "30057e76",
   "metadata": {},
   "source": [
    "## Split data between what we use to predict and what we want to predict.\n",
    "\n",
    "`X` is the data we use to predict.\n",
    "`y` is the data we want to predict.\n",
    "\n",
    "In our case, `y`=`adjusted_close` and `X` is everyting else."
   ]
  },
  {
   "cell_type": "code",
   "execution_count": null,
   "id": "fb8eef8c",
   "metadata": {},
   "outputs": [],
   "source": [
    "X = df.drop(['open', 'high', 'low', 'shifted_ROC_BOOL', 'ROC_1', 'ROC_BOOL', 'date'], axis=1).copy()\n",
    "X.head()"
   ]
  },
  {
   "cell_type": "code",
   "execution_count": null,
   "id": "7d0f2a8d",
   "metadata": {},
   "outputs": [],
   "source": [
    "y = df['shifted_ROC_BOOL'].copy()\n",
    "y.head()"
   ]
  },
  {
   "cell_type": "markdown",
   "id": "ab082f51",
   "metadata": {},
   "source": [
    "## Format X to be suitable for XGBoost (One-Hot Encoding)"
   ]
  },
  {
   "cell_type": "code",
   "execution_count": null,
   "id": "1e597c0b",
   "metadata": {},
   "outputs": [],
   "source": [
    "X.dtypes"
   ]
  },
  {
   "cell_type": "code",
   "execution_count": null,
   "id": "fc351ee2",
   "metadata": {},
   "outputs": [],
   "source": [
    "df.describe()"
   ]
  },
  {
   "cell_type": "markdown",
   "id": "c21ddbc1",
   "metadata": {},
   "source": [
    "### Define data matrix"
   ]
  },
  {
   "cell_type": "code",
   "execution_count": null,
   "id": "b752f529",
   "metadata": {},
   "outputs": [],
   "source": [
    "data_dmatrix = xgb.DMatrix(data=X, label=y)"
   ]
  },
  {
   "cell_type": "markdown",
   "id": "3b6d3d41",
   "metadata": {},
   "source": [
    "### We are going to use 80% off the data for training, the and 20% (`0.2`) for testing."
   ]
  },
  {
   "cell_type": "code",
   "execution_count": null,
   "id": "396a737f",
   "metadata": {},
   "outputs": [],
   "source": [
    "X_train, X_test, y_train, y_test = train_test_split(X, y, test_size=0.2, random_state=123)"
   ]
  },
  {
   "cell_type": "markdown",
   "id": "c9bbac29",
   "metadata": {},
   "source": [
    "### Then we create a model and define some parameters"
   ]
  },
  {
   "cell_type": "code",
   "execution_count": null,
   "id": "3d332ffd",
   "metadata": {},
   "outputs": [],
   "source": [
    "model = xgb.XGBRegressor(objective ='reg:squarederror', colsample_bytree = 0.3, learning_rate = 0.1,\n",
    "                max_depth = 100, alpha = 10, n_estimators = 1000)"
   ]
  },
  {
   "cell_type": "markdown",
   "id": "f15c5c54",
   "metadata": {},
   "source": [
    "### Then it is time to fit the data to our model."
   ]
  },
  {
   "cell_type": "code",
   "execution_count": null,
   "id": "a398369c",
   "metadata": {},
   "outputs": [],
   "source": [
    "model.fit(X_train,y_train)"
   ]
  },
  {
   "cell_type": "markdown",
   "id": "0118d121",
   "metadata": {},
   "source": [
    "### Next we use the remaining data to create test predictions."
   ]
  },
  {
   "cell_type": "code",
   "execution_count": null,
   "id": "35485ade",
   "metadata": {},
   "outputs": [],
   "source": [
    "preds = model.predict(X_test)\n",
    "preds"
   ]
  },
  {
   "cell_type": "code",
   "execution_count": null,
   "id": "d60c67ee",
   "metadata": {},
   "outputs": [],
   "source": [
    "preds[len(preds)-1]"
   ]
  },
  {
   "cell_type": "markdown",
   "id": "902bf4f6",
   "metadata": {},
   "source": [
    "### Desicion Tree"
   ]
  },
  {
   "cell_type": "code",
   "execution_count": null,
   "id": "8529427d",
   "metadata": {},
   "outputs": [],
   "source": [
    "xgb.plot_tree(model, num_trees=0)\n",
    "plt.rcParams['figure.figsize'] = [1000, 100]\n",
    "plt.show()"
   ]
  },
  {
   "cell_type": "markdown",
   "id": "91c97269",
   "metadata": {},
   "source": [
    "### Confusion Matrix"
   ]
  },
  {
   "cell_type": "code",
   "execution_count": null,
   "id": "f5e4920a",
   "metadata": {},
   "outputs": [],
   "source": [
    "cm = {\"tp\":0, \"fp\":0, \"fn\":0, \"tn\":0}"
   ]
  },
  {
   "cell_type": "code",
   "execution_count": null,
   "id": "095b0400",
   "metadata": {},
   "outputs": [],
   "source": [
    "preds"
   ]
  },
  {
   "cell_type": "code",
   "execution_count": null,
   "id": "88ebe63e",
   "metadata": {},
   "outputs": [],
   "source": [
    "preds_bool = (preds > 0.5).astype(int)\n",
    "preds_bool"
   ]
  },
  {
   "cell_type": "code",
   "execution_count": null,
   "id": "7aabe018",
   "metadata": {},
   "outputs": [],
   "source": [
    "y_test"
   ]
  },
  {
   "cell_type": "code",
   "execution_count": null,
   "id": "3eef122b",
   "metadata": {},
   "outputs": [],
   "source": [
    "ytest2 = y_test.to_numpy().astype(int)\n",
    "ytest2"
   ]
  },
  {
   "cell_type": "code",
   "execution_count": null,
   "id": "9d1d4dee",
   "metadata": {},
   "outputs": [],
   "source": [
    "len(preds_bool)"
   ]
  },
  {
   "cell_type": "code",
   "execution_count": null,
   "id": "db530c53",
   "metadata": {},
   "outputs": [],
   "source": [
    "for i in range(len(y_test)):\n",
    "    if(ytest2[i]):\n",
    "        if(preds_bool[i]):\n",
    "            cm['tp'] += 1\n",
    "        else:\n",
    "            cm['fp'] += 1\n",
    "    else:\n",
    "        if(preds_bool[i]):\n",
    "            cm['tn'] += 1\n",
    "        else:\n",
    "            cm['fn'] += 1"
   ]
  },
  {
   "cell_type": "code",
   "execution_count": null,
   "id": "186900a3",
   "metadata": {},
   "outputs": [],
   "source": [
    "cm_draw = [[cm['tp'], cm['fp']], [cm['tn'], cm['fn']]]\n",
    "pd.DataFrame(cm_draw, columns=[\"Fall\", \"Rise\"], index=[\"Fall\", \"Rise\"])"
   ]
  },
  {
   "cell_type": "code",
   "execution_count": null,
   "id": "1b2c4aa3",
   "metadata": {},
   "outputs": [],
   "source": [
    "def percent(number, l):\n",
    "   return f\"{int((number/l)*100)} %\""
   ]
  },
  {
   "cell_type": "code",
   "execution_count": null,
   "id": "1b9d8add",
   "metadata": {},
   "outputs": [],
   "source": [
    "cm_draw = [[percent(cm['tp'], len(ytest2)), percent(cm['fp'], len(ytest2))], [percent(cm['tn'], len(ytest2)), percent(cm['fn'], len(ytest2))]]\n",
    "pd.DataFrame(cm_draw, columns=[\"Fall\", \"Rise\"], index=[\"Fall\", \"Rise\"])"
   ]
  },
  {
   "cell_type": "markdown",
   "id": "e9143d5d",
   "metadata": {},
   "source": [
    "- Insample (rerun on data that used to train, should have high %)  \n",
    "- Out of sample (~65%, ideal 80-90%)\n",
    "- 5 years data range  \n",
    "- close instead of adjusted_close\n",
    "\n"
   ]
  }
 ],
 "metadata": {
  "kernelspec": {
   "display_name": "Python 3",
   "language": "python",
   "name": "python3"
  },
  "language_info": {
   "codemirror_mode": {
    "name": "ipython",
    "version": 3
   },
   "file_extension": ".py",
   "mimetype": "text/x-python",
   "name": "python",
   "nbconvert_exporter": "python",
   "pygments_lexer": "ipython3",
   "version": "3.7.9"
  }
 },
 "nbformat": 4,
 "nbformat_minor": 5
}
